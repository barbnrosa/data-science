{
 "cells": [
  {
   "cell_type": "markdown",
   "metadata": {},
   "source": [
    "### <span style=\"color:pink; font-weight:bold\"> CURSO - Python Pandas: tratando e analisando dados</span>"
   ]
  },
  {
   "cell_type": "markdown",
   "metadata": {},
   "source": [
    "O Pandas é uma biblioteca do Python que oferece estruturas de dados e ferramentas projetadas para tornar mais fácil o processo de manipulação e análise de informações.  \n",
    "Desenvolveremos um projeto em que faremos realmente o papel de um cientista de dados, participaremos do processo inicial de conhecimento, tratamento e limpeza de uma base de dados e utilizando o Pandas para resolver os problemas que se apresentarem. Lidaremos com uma seguradora fictícia que pretende elaborar produtos para o mercado imobiliário e para isso ela possui uma base de dados para ser trabalhada e desenvolver análises e relatórios. "
   ]
  },
  {
   "cell_type": "markdown",
   "metadata": {},
   "source": [
    "#### <span style=\"color:pink; font-weight:bold\"> Conhecendo Jupyter</span>"
   ]
  },
  {
   "cell_type": "markdown",
   "metadata": {},
   "source": [
    "O primeiro passo para iniciarmos nosso curso de Pandas é configurar o ambiente. Conheceremos a distribuição do Python, Anaconda, própria para Data Science por conter todo o conjunto de ferramentas de que precisamos para resolver problemas.  \n",
    "O Anaconda ainda fornece uma IDE padrão denominada Spider, não usaremos este recurso no projeto, mas sim o Jupyter, uma ferramenta mais interativa. "
   ]
  },
  {
   "cell_type": "markdown",
   "metadata": {},
   "source": [
    "##### <span style=\"color:pink; font-weight:bold\"> Ambiente Virtual</span>"
   ]
  },
  {
   "cell_type": "markdown",
   "metadata": {},
   "source": [
    "Porque criar ambientes virtuais? Imagine que há seis meses você escreveu um código complicado e longo usando várias bibliotecas e pacotes para criar uma base de dados. Agora, o seu chefe quer atualizar essa base de dados e, de repente, o seu código já não funciona. Isso acontece porque as bibliotecas foram atualizadas, o que pode levar a mudanças ou até mesmo a exclusão de algumas funcionalidades.  \n",
    "\n",
    "No entanto, se você cria um ambiente virtual, a manutenção do código se torna mais fácil. Você pode especificar a versão da biblioteca que deseja usar, garantindo que o código funcione da mesma maneira que antes da atualização, mesmo que as bibliotecas tenham mudado."
   ]
  },
  {
   "cell_type": "code",
   "execution_count": null,
   "metadata": {},
   "outputs": [],
   "source": []
  }
 ],
 "metadata": {
  "kernelspec": {
   "display_name": "estudos2",
   "language": "python",
   "name": "python3"
  },
  "language_info": {
   "codemirror_mode": {
    "name": "ipython",
    "version": 3
   },
   "file_extension": ".py",
   "mimetype": "text/x-python",
   "name": "python",
   "nbconvert_exporter": "python",
   "pygments_lexer": "ipython3",
   "version": "3.11.5"
  }
 },
 "nbformat": 4,
 "nbformat_minor": 2
}
